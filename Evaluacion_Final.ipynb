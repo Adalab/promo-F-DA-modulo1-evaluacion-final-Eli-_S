{
 "cells": [
  {
   "cell_type": "code",
   "execution_count": 254,
   "metadata": {},
   "outputs": [],
   "source": [
    "#método constructor\n",
    "\n",
    "class TiendaOnline:\n",
    "    def __init__(self, nombre):\n",
    "        self.nombre= nombre\n",
    "        self.inventario_productos=[]\n",
    "        self.clientes={}\n",
    "        self.ventas_totales=0"
   ]
  },
  {
   "cell_type": "code",
   "execution_count": 351,
   "metadata": {},
   "outputs": [],
   "source": [
    "#método 1: agregar producto\n",
    "\n",
    "def agregar_producto(self,nombre,precio,cantidad):\n",
    "    for producto in self.inventario_productos:      #iteramos dentro del diccionario de productos \"self.inventario_productos\"  \n",
    "        if producto['nombre']==nombre:              #en la iteración comprobamos si el nombre del poducto existe en el diccionario,\n",
    "             producto['cantidad']+=cantidad          #si existe en el diccionario agregamos un valor a la clave cantidad.\n",
    "    else:\n",
    "        self.inventario_productos.append({'nombre': nombre, 'precio': precio, 'cantidad': cantidad})\n",
    "            "
   ]
  },
  {
   "cell_type": "code",
   "execution_count": 393,
   "metadata": {},
   "outputs": [
    {
     "name": "stdout",
     "output_type": "stream",
     "text": [
      "Nombre: camisa, Precio: 20, Cantidad: 50\n",
      "Nombre: pantalón, Precio: 30, Cantidad: 30\n",
      "Nombre: zapatos, Precio: 50, Cantidad: 40\n",
      "Nombre: camisa, Precio: 20, Cantidad: 50\n"
     ]
    }
   ],
   "source": [
    "#método 2: ver inventario\n",
    "\n",
    "dicc_inventario = [{\"nombre\": [\"camisa\", \"pantalón\", \"zapatos\", \"camisa\"],\"precio\": [20, 30, 50, 20],\"cantidad\": [50, 30, 40, 50]}]\n",
    "#convierto el diccionario en una lista.\n",
    "\n",
    "def ver_inventario(self): # podría haber puesto diccionario_inventario como parámetro \n",
    "    nombres = dicc_inventario[0][\"nombre\"] #el 0 indica el primer elemento de al que se accede de la lista, \n",
    "                                           #en este caso el primer y único elemento son las claves valor del diccionario\n",
    "    precios = dicc_inventario[0][\"precio\"]\n",
    "    cantidades = dicc_inventario[0][\"cantidad\"]\n",
    "\n",
    "    for producto in range(len(nombres)):\n",
    "        nombre = nombres[producto]\n",
    "        precio = precios[producto]\n",
    "        cantidad = cantidades[producto]\n",
    "        print(f\"Nombre: {nombre}, Precio: {precio}, Cantidad: {cantidad}\")\n",
    "                \n",
    "ver_inventario(dicc_inventario)\n",
    "\n",
    "#en este caso en concreto nos aparecen dos productos iguales; ¿deberíamos mostrar el inventario con ambos productos sumados?\n",
    "#podríamos crear un diccionario vacío y con un for loop y un condicional para sumar los valores de las claves cantidad y precio y \n",
    "# luego mostrar el producto con los valores totales.\n",
    "#también exite la opción de convertir las listas de valores del diccionario en sets y crear un nuevo diccionario y repetir la iteración con el nuevo diccionario."
   ]
  },
  {
   "cell_type": "code",
   "execution_count": 385,
   "metadata": {},
   "outputs": [
    {
     "name": "stdout",
     "output_type": "stream",
     "text": [
      "Nombre: pantalón, Precio: 30, Cantidad: 30\n"
     ]
    }
   ],
   "source": [
    "#método 3: buscar producto\n",
    "\n",
    "dicc_inventario = {\"nombre\": [\"camisa\", \"pantalón\", \"zapatos\", \"camisa\"],\"precio\": [20, 30, 50, 20],\"cantidad\": [50, 30, 40, 50]}\n",
    "\n",
    "def buscar_producto(self, nombre): #primero había creado la función buscar_producto con los siguientes parámetros (dicc_inventario,nombre) \n",
    "                                   #pero lo he puesto en una clase mediante el self\n",
    "    nombres = dicc_inventario[\"nombre\"]\n",
    "    precios = dicc_inventario[\"precio\"]\n",
    "    cantidades = dicc_inventario[\"cantidad\"]\n",
    "\n",
    "    for producto in range(len(nombres)):# el rango empieza en 0 como defecto y va hasta 3 de la lista valor de nombre\n",
    "        if nombres[producto] == nombre:\n",
    "            precio = precios[producto] #está accediendo al precio específico del producto especificado\n",
    "            cantidad = cantidades[producto]\n",
    "            print(f\"Nombre: {nombre}, Precio: {precio}, Cantidad: {cantidad}\")\n",
    "            return #sirve para finalizar la función y que nos devuelva un valor para aquello que llamó la función, \n",
    "                   #si lo obviamos nos pone que el producto no ha sido encontrado\n",
    "\n",
    "    print(f\"Producto '{nombre}' no encontrado en el inventario.\")\n",
    "\n",
    "nombre_a_buscar = \"pantalón\"\n",
    "buscar_producto(dicc_inventario, nombre_a_buscar)\n",
    "\n",
    "#para el ejemplo de camisas, hay duplicados. la opción más simple sería convertir las listas de valores del diccionario en \n",
    "# sets para eliminar duplicados y convertirlo en un nuevo diccionario. Otra opción sería hacer un total de precios y cantidades =0 y\n",
    "# si se cumple el if entonces sumar precios y cantidades y bajo el for loop añadir otro if con la condición total_precio > 0 and total_cantidad>0: \n"
   ]
  },
  {
   "cell_type": "code",
   "execution_count": 562,
   "metadata": {},
   "outputs": [
    {
     "data": {
      "text/plain": [
       "{'nombre': ['camisa', 'pantalón', 'zapatos', 'camisa'],\n",
       " 'precio': [20, 30, 50, 20],\n",
       " 'cantidad': [50, 30, 80, 50]}"
      ]
     },
     "execution_count": 562,
     "metadata": {},
     "output_type": "execute_result"
    }
   ],
   "source": [
    "# Método 4: Actualizar inventario\n",
    "\n",
    "dicc_inventario = {\"nombre\": [\"camisa\", \"pantalón\", \"zapatos\", \"camisa\"],\"precio\": [20, 30, 50, 20],\"cantidad\": [50, 30, 40, 50]}\n",
    "\n",
    "def actualizar_stock(self, nombre, cantidad):\n",
    "    if nombre in dicc_inventario[\"nombre\"]:\n",
    "        indice = dicc_inventario[\"nombre\"].index(nombre)\n",
    "        dicc_inventario[\"cantidad\"][indice] += cantidad\n",
    "    else:\n",
    "        print(f\"Producto '{nombre}' no encontrado en el inventario.\")\n",
    "\n",
    "\n",
    "nombre_a_actualizar = \"zapatos\"\n",
    "cantidad_nueva = 40\n",
    "actualizar_stock(dicc_inventario, nombre_a_actualizar, cantidad_nueva)\n",
    "dicc_inventario\n",
    " "
   ]
  },
  {
   "cell_type": "code",
   "execution_count": 564,
   "metadata": {},
   "outputs": [
    {
     "name": "stdout",
     "output_type": "stream",
     "text": [
      "{'nombre': ['camisa', 'zapatos', 'camisa'], 'precio': [20, 50, 20], 'cantidad': [50, 40, 50]}\n"
     ]
    }
   ],
   "source": [
    "#método 5: eliminar producto\n",
    "\n",
    "dicc_inventario = {\"nombre\": [\"camisa\", \"pantalón\", \"zapatos\", \"camisa\"],\"precio\": [20, 30, 50, 20],\"cantidad\": [50, 30, 40, 50]}\n",
    "\n",
    "#si quisieramos podríamos poner un input para que el usuario decidiera que producto eliminar, \n",
    "# para que salieran los valores de la clave-valor del diccionario en el input, primero los he convertido \n",
    "# en set porque en los sets no hay repeticiones y nos permite evitar duplicados como camisa y \n",
    "# a su vez el set lo he convertido en lista para que apareciera como tal en el input. Además el if...else \n",
    "# nos permite acotar el resultado a los elementos de la lista existente\n",
    "#opcion_productos = list(set(dicc_inventario[\"nombre\"]))\n",
    "#producto_a_eliminar=(input(f\"De la siguiente lista selecciona el producto a eliminar {opcion_productos}\"))\n",
    "#if opcion_productos in productos_sin_repetir:\n",
    "    #print(f\"Has seleccionado eliminar el producto: {opcion_productos}\")\n",
    "#else:\n",
    "    #print(\"La selección no es válida. Por favor, selecciona un producto de la lista.\")\n",
    "\n",
    "def eliminar_producto(self, producto_a_eliminar):\n",
    "    nuevo_inventario = {\"nombre\": [], \"precio\": [], \"cantidad\": []}\n",
    "\n",
    "    for producto in range(len(dicc_inventario[\"nombre\"])):\n",
    "        if dicc_inventario[\"nombre\"][producto] != producto_a_eliminar:\n",
    "            nuevo_inventario[\"nombre\"].append(dicc_inventario[\"nombre\"][producto])\n",
    "            nuevo_inventario[\"precio\"].append(dicc_inventario[\"precio\"][producto])\n",
    "            nuevo_inventario[\"cantidad\"].append(dicc_inventario[\"cantidad\"][producto])\n",
    "\n",
    "    return nuevo_inventario\n",
    "\n",
    "# lo que hacemos es poner un producto que queramos eliminar de la lista en producto_a_eliminar. \n",
    "# Luego creamos un nuevo inventario como variable llamando a la función con sus parámetros\n",
    "# Actualizar el diccionario de inventario con el nuevo inventario\n",
    "producto_a_eliminar = \"pantalón\"\n",
    "nuevo_inventario = eliminar_producto(dicc_inventario, producto_a_eliminar)\n",
    "print(nuevo_inventario)\n"
   ]
  },
  {
   "cell_type": "code",
   "execution_count": 446,
   "metadata": {},
   "outputs": [
    {
     "name": "stdout",
     "output_type": "stream",
     "text": [
      "El valor total del inventario es: 5900\n"
     ]
    }
   ],
   "source": [
    "#método 6: calcular valor inventario\n",
    "\n",
    "dicc_inventario2 = {\"nombre\": [\"camisa\", \"pantalón\", \"zapatos\", \"camisa\",\"calcetines\"],\"precio\": [20, 30, 50, 20, 5],\"cantidad\": [50, 30, 40, 50,200]}\n",
    "\n",
    "def calcular_valor_inventario(dicc_inventario):\n",
    "    valor_total = 0\n",
    "\n",
    "    precios = dicc_inventario[\"precio\"]\n",
    "    cantidades = dicc_inventario[\"cantidad\"]\n",
    "\n",
    "    for i in range(len(precios)):\n",
    "        valor_total += precios[i] * cantidades[i]\n",
    "\n",
    "    return valor_total\n",
    " \n",
    "#también podríamos iterar a través del inventario y desglosar el valor de cada producto\n",
    "#for producto in range(len(dicc_inventario2[\"nombre\"])):\n",
    "   #valor_producto = {}\n",
    "   #valor_producto[\"nombre\"] = dicc_inventario2[\"nombre\"][producto]\n",
    "   #valor_producto[\"precio\"] = dicc_inventario2[\"precio\"][producto]\n",
    "   #valor_producto[\"cantidad\"] = dicc_inventario2[\"cantidad\"][producto]\n",
    "   #valor_producto[\"total\"] = valor_producto[\"precio\"] * valor_producto[\"cantidad\"]\n",
    "   #valor_total += valor_producto[\"total\"]\n",
    "   #print(f\"El valor total del producto {valor_producto['nombre']} es {valor_producto['total']}\")\n",
    "\n",
    "print(f\"El valor total del inventario es: {valor_total_inventario}\")\n"
   ]
  },
  {
   "cell_type": "code",
   "execution_count": 554,
   "metadata": {},
   "outputs": [
    {
     "name": "stdout",
     "output_type": "stream",
     "text": [
      "Nombre: zapatos, Precio: 50, Cantidad: 40\n"
     ]
    }
   ],
   "source": [
    "#Método 7: Buscar producto usando Regex\n",
    "import re\n",
    "\n",
    "dicc_inventario2 = {\"nombre\": [\"camisa\", \"pantalón\", \"zapatos\", \"camisa\", \"calcetines\"],\"precio\": [20, 30, 50, 20, 5],\"cantidad\": [50, 30, 40, 50, 200]}\n",
    "\n",
    "patron_busqueda = r'^50$'\n",
    "\n",
    "resultados = []\n",
    "\n",
    "for producto in range(len(dicc_inventario2[\"nombre\"])): # el rango está accediendo a la longitud de la lista de nombres y \n",
    "                                                        #con el for loop va accediendo a cada elemento de la lista-valor.\n",
    "    nombre = dicc_inventario2[\"nombre\"][producto]\n",
    "    precio = dicc_inventario2[\"precio\"][producto]\n",
    "    cantidad = dicc_inventario2[\"cantidad\"][producto]\n",
    "\n",
    "    if re.match(patron_busqueda, str(precio)): # si no completo con str da error porque el regex = expresión regular, cadena para comparar\n",
    "        resultados.append({\"nombre\": nombre, \"precio\": precio, \"cantidad\": cantidad})\n",
    "        \n",
    "#hemos hecho una iteración por todos los elementos que componen las listas valor de cada clave del diccionario, \n",
    "# cuando hemos encontrado el patrón entonces se añade el resultado a una lista\n",
    "if resultados: #comprueba si la lista donde hemos almacenado el resultado de regex, está vacía.\n",
    "    for producto in resultados: # si la condición es True, itera por producto que cumple con la condición \n",
    "        print(f\"Nombre: {producto['nombre']}, Precio: {producto['precio']}, Cantidad: {producto['cantidad']}\") \n",
    "        #aquí muestra el elemento que coincide en cada lista para el producto\n",
    "else:\n",
    "    print(\"No se encontraron productos con precio 50.\")\n"
   ]
  },
  {
   "cell_type": "code",
   "execution_count": 585,
   "metadata": {},
   "outputs": [
    {
     "data": {
      "text/plain": [
       "{'nombre': ['menganito', 'pascualita'],\n",
       " 'email': ['menganito@example.com', 'pascualita@example.com']}"
      ]
     },
     "execution_count": 585,
     "metadata": {},
     "output_type": "execute_result"
    }
   ],
   "source": [
    "#método 10: agregar cliente\n",
    "\n",
    "diccionario_clientes = {\"nombre\": [], \"email\": []}\n",
    "\n",
    "def agregar_cliente(nombre, email):\n",
    "    diccionario_clientes[\"nombre\"].append(nombre)\n",
    "    diccionario_clientes[\"email\"].append(email)\n",
    "\n",
    "#vamos a llamar a la función con los parámetros que queremos agregar\n",
    "agregar_cliente(\"menganito\", \"menganito@example.com\")\n",
    "agregar_cliente(\"pascualita\", \"pascualita@example.com\")\n",
    "diccionario_clientes"
   ]
  },
  {
   "cell_type": "code",
   "execution_count": 600,
   "metadata": {},
   "outputs": [
    {
     "name": "stdout",
     "output_type": "stream",
     "text": [
      "Lista de clientes registrados:\n",
      "Nombre: menganito, Email: menganito@example.com\n",
      "Nombre: pascualita, Email: pascualita@example.com\n"
     ]
    }
   ],
   "source": [
    "#Método 11: ver clientes\n",
    "def agregar_cliente(diccionario_de_clientes, nombre, email):\n",
    "    diccionario_de_clientes[\"nombre\"].append(nombre)\n",
    "    diccionario_de_clientes[\"email\"].append(email)\n",
    "\n",
    "diccionario_de_clientes = {\"nombre\": [], \"email\": []}\n",
    "\n",
    "agregar_cliente(diccionario_de_clientes, \"menganito\", \"menganito@example.com\")\n",
    "agregar_cliente(diccionario_de_clientes, \"pascualita\", \"pascualita@example.com\")\n",
    "\n",
    "ver_clientes(diccionario_de_clientes)\n"
   ]
  },
  {
   "cell_type": "code",
   "execution_count": 507,
   "metadata": {},
   "outputs": [
    {
     "name": "stdout",
     "output_type": "stream",
     "text": [
      "Compra registrada para Cliente1.\n",
      "[{'Camisa': {'precio': 20, 'cantidad': 3}}]\n",
      "[{'Camisa': {'precio': 20, 'cantidad': 3}, 'Pantalón': {'precio': 30, 'cantidad': 2}}]\n",
      "Compra registrada para Cliente2.\n",
      "[{'Camisa': {'precio': 20, 'cantidad': 3}, 'Pantalón': {'precio': 30, 'cantidad': 2}}]\n",
      "[{'Camisa': {'precio': 20, 'cantidad': 3}, 'Pantalón': {'precio': 30, 'cantidad': 2}}]\n"
     ]
    },
    {
     "data": {
      "text/plain": [
       "{'Cliente1': {'nombre': 'Menganita',\n",
       "  'email': 'menganita@example.com',\n",
       "  'compras': [{'Camisa': {'precio': 20, 'cantidad': 3},\n",
       "    'Pantalón': {'precio': 30, 'cantidad': 2}}]},\n",
       " 'Cliente2': {'nombre': 'Pascualina',\n",
       "  'email': 'pascualina@example.com',\n",
       "  'compras': [{'Camisa': {'precio': 20, 'cantidad': 3},\n",
       "    'Pantalón': {'precio': 30, 'cantidad': 2}}]}}"
      ]
     },
     "execution_count": 507,
     "metadata": {},
     "output_type": "execute_result"
    }
   ],
   "source": [
    "# Método 12 Registrar_compra\n",
    "\n",
    "diccionario_de_clientes = {\"Cliente1\": {\"nombre\": \"Menganita\",\"email\": \"menganita@example.com\",\"compras\": []},\"Cliente2\":{\"nombre\": \"Pascualina\", \"email\": \"pascualina@example.com\",\n",
    "        \"compras\": []}}\n",
    "#definimos un diccionario de diccionarios, la clave valor compras tiene una lista vací como valor. Aquí es donde voy a añadir la compra como historial del cliente.\n",
    "\n",
    "def registrar_compra(cliente, carrito):\n",
    "#en esta función hay el condicional para comprobar que el cliente está en en el diccionario de clientes, si está dentro del diccionario, añadimos al carrito de la compra\n",
    "    if cliente in diccionario_de_clientes:\n",
    "        diccionario_de_clientes[cliente][\"compras\"].append(carrito) #añado el carrito al diccionario de clientes en la lista del valor compras\n",
    "        return f\"Compra registrada para {cliente}.\" # he probado de usar el print que haría más visual el resultado pero me devuelve un \n",
    "    else:\n",
    "        return f\"No se puede realizar la acción, el cliente '{cliente}' no está en el diccionario, Por favor regístrese como cliente.\"\n",
    "    \n",
    "carrito_cliente1 = {\"Camisa\": {\"precio\": 20, \"cantidad\": 3}}\n",
    "\n",
    "resultado = registrar_compra(\"Cliente1\", carrito_cliente1)\n",
    "print(resultado)\n",
    "\n",
    "print(diccionario_de_clientes[\"Cliente1\"][\"compras\"])\n",
    "\n",
    "producto_adicional = {\"Pantalón\": {\"precio\": 30, \"cantidad\": 2}}\n",
    "\n",
    "diccionario_de_clientes[\"Cliente1\"][\"compras\"][-1].update(producto_adicional)\n",
    "\n",
    "print(diccionario_de_clientes[\"Cliente1\"][\"compras\"])\n",
    "\n",
    "carrito_cliente2 = {\"Pantalón\": {\"precio\": 30, \"cantidad\": 3}}\n",
    "\n",
    "resultado = registrar_compra(\"Cliente2\", carrito_cliente1)\n",
    "print(resultado)\n",
    "\n",
    "print(diccionario_de_clientes[\"Cliente2\"][\"compras\"])\n",
    "\n",
    "producto_adicional = {\"Pantalón\": {\"precio\": 30, \"cantidad\": 2}}\n",
    "\n",
    "diccionario_de_clientes[\"Cliente2\"][\"compras\"][-1].update(producto_adicional)\n",
    "\n",
    "print(diccionario_de_clientes[\"Cliente2\"][\"compras\"])\n",
    "\n",
    "diccionario_de_clientes\n"
   ]
  },
  {
   "cell_type": "code",
   "execution_count": 587,
   "metadata": {},
   "outputs": [
    {
     "name": "stdout",
     "output_type": "stream",
     "text": [
      "Historial de Compras de Cliente1:\n",
      "\n",
      "Compra:\n",
      "\n",
      "Producto: Camisa\n",
      "Precio: 20\n",
      "Cantidad: 3\n",
      "Producto: Pantalón\n",
      "Precio: 30\n",
      "Cantidad: 2\n"
     ]
    }
   ],
   "source": [
    "#método 13 Ver compras del cliente\n",
    "\n",
    "print(\"Historial de Compras de Cliente1:\\n\")\n",
    "historial_compras_cliente1 = diccionario_de_clientes[\"Cliente1\"][\"compras\"]\n",
    "for compra in historial_compras_cliente1:\n",
    "    print(f\"Compra:\\n\")\n",
    "    for producto, detalles in compra.items():\n",
    "        print(f\"Producto: {producto}\")\n",
    "        print(f\"Precio: {detalles['precio']}\")\n",
    "        print(f\"Cantidad: {detalles['cantidad']}\")\n"
   ]
  },
  {
   "cell_type": "code",
   "execution_count": 614,
   "metadata": {},
   "outputs": [
    {
     "name": "stdout",
     "output_type": "stream",
     "text": [
      "Las ventas totales de la tienda en línea son: 65\n"
     ]
    }
   ],
   "source": [
    "# Método 14: calcular ventas totales\n",
    "\n",
    "class TiendaOnline:\n",
    "    def __init__(self):\n",
    "        self.compras = []\n",
    "\n",
    "    def agregar_compra(self, total):\n",
    "        self.compras.append(total)\n",
    "\n",
    "    def calcular_ventas_totales(self):\n",
    "        ventas_totales = sum(self.compras)\n",
    "        return ventas_totales\n",
    "\n",
    "\n",
    "mi_tienda = TiendaOnline()\n",
    "mi_tienda.agregar_compra(10)\n",
    "mi_tienda.agregar_compra(5)\n",
    "mi_tienda.agregar_compra(50)\n",
    "ventas_totales = mi_tienda.calcular_ventas_totales()\n",
    "print(f\"Las ventas totales de la tienda en línea son: {ventas_totales}\")\n"
   ]
  }
 ],
 "metadata": {
  "kernelspec": {
   "display_name": "Python 3",
   "language": "python",
   "name": "python3"
  },
  "language_info": {
   "codemirror_mode": {
    "name": "ipython",
    "version": 3
   },
   "file_extension": ".py",
   "mimetype": "text/x-python",
   "name": "python",
   "nbconvert_exporter": "python",
   "pygments_lexer": "ipython3",
   "version": "3.11.6"
  }
 },
 "nbformat": 4,
 "nbformat_minor": 2
}
